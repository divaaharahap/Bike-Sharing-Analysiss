{
 "cells": [
  {
   "cell_type": "markdown",
   "metadata": {
    "id": "H9wADwK78DCz"
   },
   "source": [
    "# Proyek Analisis Data: Bike Sharing Dataset\n",
    "- **Nama:** Diva Anggreini Harahap\n",
    "- **Email:** divaanggreiniharahap@gmail.com\n",
    "- **ID Dicoding:** divaaharahap"
   ]
  },
  {
   "cell_type": "markdown",
   "metadata": {
    "id": "eE0raob58DC0"
   },
   "source": [
    "## Menentukan Pertanyaan Bisnis"
   ]
  },
  {
   "cell_type": "markdown",
   "metadata": {
    "id": "GmQeQ5YF8DC0"
   },
   "source": [
    "- Bagaimana pengaruh kondisi cuaca terhadap jumlah sepeda yang disewa per jam di tahun 2012?\n",
    "- Pada jam berapa dalam sehari permintaan penyewaan sepeda mencapai puncaknya?"
   ]
  },
  {
   "cell_type": "markdown",
   "metadata": {
    "id": "H-z4QGlO8DC1"
   },
   "source": [
    "## Import Semua Packages/Library yang Digunakan"
   ]
  },
  {
   "cell_type": "code",
   "execution_count": 401,
   "metadata": {
    "id": "FVYwaObI8DC1"
   },
   "outputs": [],
   "source": [
    "import numpy as np\n",
    "import pandas as pd\n",
    "import matplotlib.pyplot as plt\n",
    "import seaborn as sns"
   ]
  },
  {
   "cell_type": "markdown",
   "metadata": {
    "id": "h_Sh51Xy8DC1"
   },
   "source": [
    "## Data Wrangling"
   ]
  },
  {
   "cell_type": "markdown",
   "metadata": {
    "id": "sXU2GBYu8DC1"
   },
   "source": [
    "### Gathering Data"
   ]
  },
  {
   "cell_type": "markdown",
   "metadata": {},
   "source": [
    "Pada tahap ini, kita akan mengumpulkan semua data yang dibutuhkan untuk menjawan pertanyaan bisnis yang telah dibuat.\n",
    "\n",
    "# Sumber Data:\n",
    "Dataset Bike Sharing yang berisi informasi penyewaan sepeda setiap jam, termasuk faktor lingkungan seperti cuaca, suhu, kelembaban, dan kecepatan angin."
   ]
  },
  {
   "cell_type": "code",
   "execution_count": 402,
   "metadata": {
    "id": "zjCBk1BI8DC1"
   },
   "outputs": [
    {
     "data": {
      "text/html": [
       "<div>\n",
       "<style scoped>\n",
       "    .dataframe tbody tr th:only-of-type {\n",
       "        vertical-align: middle;\n",
       "    }\n",
       "\n",
       "    .dataframe tbody tr th {\n",
       "        vertical-align: top;\n",
       "    }\n",
       "\n",
       "    .dataframe thead th {\n",
       "        text-align: right;\n",
       "    }\n",
       "</style>\n",
       "<table border=\"1\" class=\"dataframe\">\n",
       "  <thead>\n",
       "    <tr style=\"text-align: right;\">\n",
       "      <th></th>\n",
       "      <th>instant</th>\n",
       "      <th>dteday</th>\n",
       "      <th>season</th>\n",
       "      <th>yr</th>\n",
       "      <th>mnth</th>\n",
       "      <th>hr</th>\n",
       "      <th>holiday</th>\n",
       "      <th>weekday</th>\n",
       "      <th>workingday</th>\n",
       "      <th>weathersit</th>\n",
       "      <th>temp</th>\n",
       "      <th>atemp</th>\n",
       "      <th>hum</th>\n",
       "      <th>windspeed</th>\n",
       "      <th>casual</th>\n",
       "      <th>registered</th>\n",
       "      <th>cnt</th>\n",
       "    </tr>\n",
       "  </thead>\n",
       "  <tbody>\n",
       "    <tr>\n",
       "      <th>0</th>\n",
       "      <td>1</td>\n",
       "      <td>2011-01-01</td>\n",
       "      <td>1</td>\n",
       "      <td>0</td>\n",
       "      <td>1</td>\n",
       "      <td>0</td>\n",
       "      <td>0</td>\n",
       "      <td>6</td>\n",
       "      <td>0</td>\n",
       "      <td>1</td>\n",
       "      <td>0.24</td>\n",
       "      <td>0.2879</td>\n",
       "      <td>0.81</td>\n",
       "      <td>0.0000</td>\n",
       "      <td>3</td>\n",
       "      <td>13</td>\n",
       "      <td>16</td>\n",
       "    </tr>\n",
       "    <tr>\n",
       "      <th>1</th>\n",
       "      <td>2</td>\n",
       "      <td>2011-01-01</td>\n",
       "      <td>1</td>\n",
       "      <td>0</td>\n",
       "      <td>1</td>\n",
       "      <td>1</td>\n",
       "      <td>0</td>\n",
       "      <td>6</td>\n",
       "      <td>0</td>\n",
       "      <td>1</td>\n",
       "      <td>0.22</td>\n",
       "      <td>0.2727</td>\n",
       "      <td>0.80</td>\n",
       "      <td>0.0000</td>\n",
       "      <td>8</td>\n",
       "      <td>32</td>\n",
       "      <td>40</td>\n",
       "    </tr>\n",
       "    <tr>\n",
       "      <th>2</th>\n",
       "      <td>3</td>\n",
       "      <td>2011-01-01</td>\n",
       "      <td>1</td>\n",
       "      <td>0</td>\n",
       "      <td>1</td>\n",
       "      <td>2</td>\n",
       "      <td>0</td>\n",
       "      <td>6</td>\n",
       "      <td>0</td>\n",
       "      <td>1</td>\n",
       "      <td>0.22</td>\n",
       "      <td>0.2727</td>\n",
       "      <td>0.80</td>\n",
       "      <td>0.0000</td>\n",
       "      <td>5</td>\n",
       "      <td>27</td>\n",
       "      <td>32</td>\n",
       "    </tr>\n",
       "    <tr>\n",
       "      <th>3</th>\n",
       "      <td>4</td>\n",
       "      <td>2011-01-01</td>\n",
       "      <td>1</td>\n",
       "      <td>0</td>\n",
       "      <td>1</td>\n",
       "      <td>3</td>\n",
       "      <td>0</td>\n",
       "      <td>6</td>\n",
       "      <td>0</td>\n",
       "      <td>1</td>\n",
       "      <td>0.24</td>\n",
       "      <td>0.2879</td>\n",
       "      <td>0.75</td>\n",
       "      <td>0.0000</td>\n",
       "      <td>3</td>\n",
       "      <td>10</td>\n",
       "      <td>13</td>\n",
       "    </tr>\n",
       "    <tr>\n",
       "      <th>4</th>\n",
       "      <td>5</td>\n",
       "      <td>2011-01-01</td>\n",
       "      <td>1</td>\n",
       "      <td>0</td>\n",
       "      <td>1</td>\n",
       "      <td>4</td>\n",
       "      <td>0</td>\n",
       "      <td>6</td>\n",
       "      <td>0</td>\n",
       "      <td>1</td>\n",
       "      <td>0.24</td>\n",
       "      <td>0.2879</td>\n",
       "      <td>0.75</td>\n",
       "      <td>0.0000</td>\n",
       "      <td>0</td>\n",
       "      <td>1</td>\n",
       "      <td>1</td>\n",
       "    </tr>\n",
       "    <tr>\n",
       "      <th>...</th>\n",
       "      <td>...</td>\n",
       "      <td>...</td>\n",
       "      <td>...</td>\n",
       "      <td>...</td>\n",
       "      <td>...</td>\n",
       "      <td>...</td>\n",
       "      <td>...</td>\n",
       "      <td>...</td>\n",
       "      <td>...</td>\n",
       "      <td>...</td>\n",
       "      <td>...</td>\n",
       "      <td>...</td>\n",
       "      <td>...</td>\n",
       "      <td>...</td>\n",
       "      <td>...</td>\n",
       "      <td>...</td>\n",
       "      <td>...</td>\n",
       "    </tr>\n",
       "    <tr>\n",
       "      <th>17374</th>\n",
       "      <td>17375</td>\n",
       "      <td>2012-12-31</td>\n",
       "      <td>1</td>\n",
       "      <td>1</td>\n",
       "      <td>12</td>\n",
       "      <td>19</td>\n",
       "      <td>0</td>\n",
       "      <td>1</td>\n",
       "      <td>1</td>\n",
       "      <td>2</td>\n",
       "      <td>0.26</td>\n",
       "      <td>0.2576</td>\n",
       "      <td>0.60</td>\n",
       "      <td>0.1642</td>\n",
       "      <td>11</td>\n",
       "      <td>108</td>\n",
       "      <td>119</td>\n",
       "    </tr>\n",
       "    <tr>\n",
       "      <th>17375</th>\n",
       "      <td>17376</td>\n",
       "      <td>2012-12-31</td>\n",
       "      <td>1</td>\n",
       "      <td>1</td>\n",
       "      <td>12</td>\n",
       "      <td>20</td>\n",
       "      <td>0</td>\n",
       "      <td>1</td>\n",
       "      <td>1</td>\n",
       "      <td>2</td>\n",
       "      <td>0.26</td>\n",
       "      <td>0.2576</td>\n",
       "      <td>0.60</td>\n",
       "      <td>0.1642</td>\n",
       "      <td>8</td>\n",
       "      <td>81</td>\n",
       "      <td>89</td>\n",
       "    </tr>\n",
       "    <tr>\n",
       "      <th>17376</th>\n",
       "      <td>17377</td>\n",
       "      <td>2012-12-31</td>\n",
       "      <td>1</td>\n",
       "      <td>1</td>\n",
       "      <td>12</td>\n",
       "      <td>21</td>\n",
       "      <td>0</td>\n",
       "      <td>1</td>\n",
       "      <td>1</td>\n",
       "      <td>1</td>\n",
       "      <td>0.26</td>\n",
       "      <td>0.2576</td>\n",
       "      <td>0.60</td>\n",
       "      <td>0.1642</td>\n",
       "      <td>7</td>\n",
       "      <td>83</td>\n",
       "      <td>90</td>\n",
       "    </tr>\n",
       "    <tr>\n",
       "      <th>17377</th>\n",
       "      <td>17378</td>\n",
       "      <td>2012-12-31</td>\n",
       "      <td>1</td>\n",
       "      <td>1</td>\n",
       "      <td>12</td>\n",
       "      <td>22</td>\n",
       "      <td>0</td>\n",
       "      <td>1</td>\n",
       "      <td>1</td>\n",
       "      <td>1</td>\n",
       "      <td>0.26</td>\n",
       "      <td>0.2727</td>\n",
       "      <td>0.56</td>\n",
       "      <td>0.1343</td>\n",
       "      <td>13</td>\n",
       "      <td>48</td>\n",
       "      <td>61</td>\n",
       "    </tr>\n",
       "    <tr>\n",
       "      <th>17378</th>\n",
       "      <td>17379</td>\n",
       "      <td>2012-12-31</td>\n",
       "      <td>1</td>\n",
       "      <td>1</td>\n",
       "      <td>12</td>\n",
       "      <td>23</td>\n",
       "      <td>0</td>\n",
       "      <td>1</td>\n",
       "      <td>1</td>\n",
       "      <td>1</td>\n",
       "      <td>0.26</td>\n",
       "      <td>0.2727</td>\n",
       "      <td>0.65</td>\n",
       "      <td>0.1343</td>\n",
       "      <td>12</td>\n",
       "      <td>37</td>\n",
       "      <td>49</td>\n",
       "    </tr>\n",
       "  </tbody>\n",
       "</table>\n",
       "<p>17379 rows × 17 columns</p>\n",
       "</div>"
      ],
      "text/plain": [
       "       instant      dteday  season  yr  mnth  hr  holiday  weekday  \\\n",
       "0            1  2011-01-01       1   0     1   0        0        6   \n",
       "1            2  2011-01-01       1   0     1   1        0        6   \n",
       "2            3  2011-01-01       1   0     1   2        0        6   \n",
       "3            4  2011-01-01       1   0     1   3        0        6   \n",
       "4            5  2011-01-01       1   0     1   4        0        6   \n",
       "...        ...         ...     ...  ..   ...  ..      ...      ...   \n",
       "17374    17375  2012-12-31       1   1    12  19        0        1   \n",
       "17375    17376  2012-12-31       1   1    12  20        0        1   \n",
       "17376    17377  2012-12-31       1   1    12  21        0        1   \n",
       "17377    17378  2012-12-31       1   1    12  22        0        1   \n",
       "17378    17379  2012-12-31       1   1    12  23        0        1   \n",
       "\n",
       "       workingday  weathersit  temp   atemp   hum  windspeed  casual  \\\n",
       "0               0           1  0.24  0.2879  0.81     0.0000       3   \n",
       "1               0           1  0.22  0.2727  0.80     0.0000       8   \n",
       "2               0           1  0.22  0.2727  0.80     0.0000       5   \n",
       "3               0           1  0.24  0.2879  0.75     0.0000       3   \n",
       "4               0           1  0.24  0.2879  0.75     0.0000       0   \n",
       "...           ...         ...   ...     ...   ...        ...     ...   \n",
       "17374           1           2  0.26  0.2576  0.60     0.1642      11   \n",
       "17375           1           2  0.26  0.2576  0.60     0.1642       8   \n",
       "17376           1           1  0.26  0.2576  0.60     0.1642       7   \n",
       "17377           1           1  0.26  0.2727  0.56     0.1343      13   \n",
       "17378           1           1  0.26  0.2727  0.65     0.1343      12   \n",
       "\n",
       "       registered  cnt  \n",
       "0              13   16  \n",
       "1              32   40  \n",
       "2              27   32  \n",
       "3              10   13  \n",
       "4               1    1  \n",
       "...           ...  ...  \n",
       "17374         108  119  \n",
       "17375          81   89  \n",
       "17376          83   90  \n",
       "17377          48   61  \n",
       "17378          37   49  \n",
       "\n",
       "[17379 rows x 17 columns]"
      ]
     },
     "execution_count": 402,
     "metadata": {},
     "output_type": "execute_result"
    }
   ],
   "source": [
    "# Memuat tabel hour menjadi sebuah DataFrame\n",
    "\n",
    "hour_df = pd.read_csv(r\"dataset\\hour.csv\")\n",
    "hour_df"
   ]
  },
  {
   "cell_type": "markdown",
   "metadata": {
    "id": "MMi6xGaDkbCi"
   },
   "source": [
    "**Insight:**\n",
    "- Dataset terdiri dari 17.379 baris dengan berbagai variabel yang mencakup informasi tanggal, musim, cuaca, suhu, kelembaban, kecepatan angin, dan jumlah penyewaan sepeda.\n",
    "- Penjelasan tiap kolom\n",
    "- instant : nomor indeks unik untuk setiap record dalam dataset\n",
    "- dteday : tanggal dalam format yyyy-mm-dd (menunjukkan hari penyewaan)\n",
    "- season : musim saat data diambil ( 1 = semi, 2 = panas, 3 = gugur, 4 = dingin)\n",
    "- yr : tahun data diambil (0 = 2011, 1 = 2012).\n",
    "- mnth : bulan data diambil (1 = Januari, ... , 12 = Desember)\n",
    "- hr : jam dalam sehari (0-23), menunjukkan waktu penyewaan terjadi\n",
    "- holiday : apakah hari tersebut libur atau tidak (0 = Bukan libur, 1 = Hari libur)\n",
    "- weekday : hari dalam seminggu (0 = minggu, ... , 6 = Sabtu)\n",
    "- workingday : apakah hari tersebut hari kerja (1 = hari kerja, 0 = Akhir pekan/libur)\n",
    "- weathersit : Kondisi cuaca saat penyewaan terjadi :\n",
    "- 1 = cerah, sedikit awan\n",
    "- 2 = berawan, berkabut\n",
    "- 3 = hujan ringan, salju ringan\n",
    "- 4 = hujan deras, badai, salju lebat\n",
    "- temp : suhu normalisasi (dibagi 41°C,) nilai antara 0-1.\n",
    "- atemp : suhu yang terasa (dibagi 50°C), nilai antara 0-1.\n",
    "- hum : kelembaban  relatif (dibagi 100%), nilai antara 0-1.\n",
    "- windspeed : kecepatan angin normalisasi (dibagi 67), nilai antara 0-1.\n",
    "- casual : jumlah penyewa sepeda yang bukan member terdaftar.\n",
    "- registered : jumlah penyewa sepeda yang merupakan member terdaftar.\n",
    "- cnt : total jumlah penyewaan sepeda (gabungan dari casual + registered)."
   ]
  },
  {
   "cell_type": "markdown",
   "metadata": {
    "id": "FHSiqaZp8DC1"
   },
   "source": [
    "### Assessing Data"
   ]
  },
  {
   "cell_type": "markdown",
   "metadata": {},
   "source": [
    "Sekarang kita  masuk ke tahap kedua dalam proses data wrangling yaitu assessing data. pada proses ini kita akan menilai kualitas dari seluruh data yang akan digunakan. penilaian ini bertujuan untuk melihat berbagai permasalahan yang ada dalam data tersebut."
   ]
  },
  {
   "cell_type": "markdown",
   "metadata": {
    "id": "ax-3tEjc9Cj1"
   },
   "source": [
    "#### Menilai data hour_df\n",
    "Kita harus memeriksa tipe data dari setiap kolom yang terdapat di dalam hour_df. disini, kita menggunakan method info()"
   ]
  },
  {
   "cell_type": "code",
   "execution_count": 403,
   "metadata": {},
   "outputs": [
    {
     "name": "stdout",
     "output_type": "stream",
     "text": [
      "<class 'pandas.core.frame.DataFrame'>\n",
      "RangeIndex: 17379 entries, 0 to 17378\n",
      "Data columns (total 17 columns):\n",
      " #   Column      Non-Null Count  Dtype  \n",
      "---  ------      --------------  -----  \n",
      " 0   instant     17379 non-null  int64  \n",
      " 1   dteday      17379 non-null  object \n",
      " 2   season      17379 non-null  int64  \n",
      " 3   yr          17379 non-null  int64  \n",
      " 4   mnth        17379 non-null  int64  \n",
      " 5   hr          17379 non-null  int64  \n",
      " 6   holiday     17379 non-null  int64  \n",
      " 7   weekday     17379 non-null  int64  \n",
      " 8   workingday  17379 non-null  int64  \n",
      " 9   weathersit  17379 non-null  int64  \n",
      " 10  temp        17379 non-null  float64\n",
      " 11  atemp       17379 non-null  float64\n",
      " 12  hum         17379 non-null  float64\n",
      " 13  windspeed   17379 non-null  float64\n",
      " 14  casual      17379 non-null  int64  \n",
      " 15  registered  17379 non-null  int64  \n",
      " 16  cnt         17379 non-null  int64  \n",
      "dtypes: float64(4), int64(12), object(1)\n",
      "memory usage: 2.3+ MB\n"
     ]
    }
   ],
   "source": [
    "# Melihat tipe data\n",
    "hour_df.info()"
   ]
  },
  {
   "cell_type": "code",
   "execution_count": 404,
   "metadata": {},
   "outputs": [
    {
     "data": {
      "text/plain": [
       "instant       0\n",
       "dteday        0\n",
       "season        0\n",
       "yr            0\n",
       "mnth          0\n",
       "hr            0\n",
       "holiday       0\n",
       "weekday       0\n",
       "workingday    0\n",
       "weathersit    0\n",
       "temp          0\n",
       "atemp         0\n",
       "hum           0\n",
       "windspeed     0\n",
       "casual        0\n",
       "registered    0\n",
       "cnt           0\n",
       "dtype: int64"
      ]
     },
     "execution_count": 404,
     "metadata": {},
     "output_type": "execute_result"
    }
   ],
   "source": [
    "# Menampilkan jumlah nilai kosong di tiap kolom\n",
    "hour_df.isna().sum()"
   ]
  },
  {
   "cell_type": "markdown",
   "metadata": {},
   "source": [
    "Hasil dari output di atas menunjukkan bahwa dataset sudah bersih dari missing values, sehingga siap untuk analisis selanjutnya tanpa perlu penanganan data kosong."
   ]
  },
  {
   "cell_type": "code",
   "execution_count": 405,
   "metadata": {},
   "outputs": [
    {
     "name": "stdout",
     "output_type": "stream",
     "text": [
      "Jumlah duplikasi:  0\n"
     ]
    }
   ],
   "source": [
    "# Mengecek apakah ada data  yg terduplikat atau tidak\n",
    "print (\"Jumlah duplikasi: \", hour_df.duplicated().sum())"
   ]
  },
  {
   "cell_type": "code",
   "execution_count": 406,
   "metadata": {},
   "outputs": [
    {
     "data": {
      "text/html": [
       "<div>\n",
       "<style scoped>\n",
       "    .dataframe tbody tr th:only-of-type {\n",
       "        vertical-align: middle;\n",
       "    }\n",
       "\n",
       "    .dataframe tbody tr th {\n",
       "        vertical-align: top;\n",
       "    }\n",
       "\n",
       "    .dataframe thead th {\n",
       "        text-align: right;\n",
       "    }\n",
       "</style>\n",
       "<table border=\"1\" class=\"dataframe\">\n",
       "  <thead>\n",
       "    <tr style=\"text-align: right;\">\n",
       "      <th></th>\n",
       "      <th>instant</th>\n",
       "      <th>season</th>\n",
       "      <th>yr</th>\n",
       "      <th>mnth</th>\n",
       "      <th>hr</th>\n",
       "      <th>holiday</th>\n",
       "      <th>weekday</th>\n",
       "      <th>workingday</th>\n",
       "      <th>weathersit</th>\n",
       "      <th>temp</th>\n",
       "      <th>atemp</th>\n",
       "      <th>hum</th>\n",
       "      <th>windspeed</th>\n",
       "      <th>casual</th>\n",
       "      <th>registered</th>\n",
       "      <th>cnt</th>\n",
       "    </tr>\n",
       "  </thead>\n",
       "  <tbody>\n",
       "    <tr>\n",
       "      <th>count</th>\n",
       "      <td>17379.0000</td>\n",
       "      <td>17379.000000</td>\n",
       "      <td>17379.000000</td>\n",
       "      <td>17379.000000</td>\n",
       "      <td>17379.000000</td>\n",
       "      <td>17379.000000</td>\n",
       "      <td>17379.000000</td>\n",
       "      <td>17379.000000</td>\n",
       "      <td>17379.000000</td>\n",
       "      <td>17379.000000</td>\n",
       "      <td>17379.000000</td>\n",
       "      <td>17379.000000</td>\n",
       "      <td>17379.000000</td>\n",
       "      <td>17379.000000</td>\n",
       "      <td>17379.000000</td>\n",
       "      <td>17379.000000</td>\n",
       "    </tr>\n",
       "    <tr>\n",
       "      <th>mean</th>\n",
       "      <td>8690.0000</td>\n",
       "      <td>2.501640</td>\n",
       "      <td>0.502561</td>\n",
       "      <td>6.537775</td>\n",
       "      <td>11.546752</td>\n",
       "      <td>0.028770</td>\n",
       "      <td>3.003683</td>\n",
       "      <td>0.682721</td>\n",
       "      <td>1.425283</td>\n",
       "      <td>0.496987</td>\n",
       "      <td>0.475775</td>\n",
       "      <td>0.627229</td>\n",
       "      <td>0.190098</td>\n",
       "      <td>35.676218</td>\n",
       "      <td>153.786869</td>\n",
       "      <td>189.463088</td>\n",
       "    </tr>\n",
       "    <tr>\n",
       "      <th>std</th>\n",
       "      <td>5017.0295</td>\n",
       "      <td>1.106918</td>\n",
       "      <td>0.500008</td>\n",
       "      <td>3.438776</td>\n",
       "      <td>6.914405</td>\n",
       "      <td>0.167165</td>\n",
       "      <td>2.005771</td>\n",
       "      <td>0.465431</td>\n",
       "      <td>0.639357</td>\n",
       "      <td>0.192556</td>\n",
       "      <td>0.171850</td>\n",
       "      <td>0.192930</td>\n",
       "      <td>0.122340</td>\n",
       "      <td>49.305030</td>\n",
       "      <td>151.357286</td>\n",
       "      <td>181.387599</td>\n",
       "    </tr>\n",
       "    <tr>\n",
       "      <th>min</th>\n",
       "      <td>1.0000</td>\n",
       "      <td>1.000000</td>\n",
       "      <td>0.000000</td>\n",
       "      <td>1.000000</td>\n",
       "      <td>0.000000</td>\n",
       "      <td>0.000000</td>\n",
       "      <td>0.000000</td>\n",
       "      <td>0.000000</td>\n",
       "      <td>1.000000</td>\n",
       "      <td>0.020000</td>\n",
       "      <td>0.000000</td>\n",
       "      <td>0.000000</td>\n",
       "      <td>0.000000</td>\n",
       "      <td>0.000000</td>\n",
       "      <td>0.000000</td>\n",
       "      <td>1.000000</td>\n",
       "    </tr>\n",
       "    <tr>\n",
       "      <th>25%</th>\n",
       "      <td>4345.5000</td>\n",
       "      <td>2.000000</td>\n",
       "      <td>0.000000</td>\n",
       "      <td>4.000000</td>\n",
       "      <td>6.000000</td>\n",
       "      <td>0.000000</td>\n",
       "      <td>1.000000</td>\n",
       "      <td>0.000000</td>\n",
       "      <td>1.000000</td>\n",
       "      <td>0.340000</td>\n",
       "      <td>0.333300</td>\n",
       "      <td>0.480000</td>\n",
       "      <td>0.104500</td>\n",
       "      <td>4.000000</td>\n",
       "      <td>34.000000</td>\n",
       "      <td>40.000000</td>\n",
       "    </tr>\n",
       "    <tr>\n",
       "      <th>50%</th>\n",
       "      <td>8690.0000</td>\n",
       "      <td>3.000000</td>\n",
       "      <td>1.000000</td>\n",
       "      <td>7.000000</td>\n",
       "      <td>12.000000</td>\n",
       "      <td>0.000000</td>\n",
       "      <td>3.000000</td>\n",
       "      <td>1.000000</td>\n",
       "      <td>1.000000</td>\n",
       "      <td>0.500000</td>\n",
       "      <td>0.484800</td>\n",
       "      <td>0.630000</td>\n",
       "      <td>0.194000</td>\n",
       "      <td>17.000000</td>\n",
       "      <td>115.000000</td>\n",
       "      <td>142.000000</td>\n",
       "    </tr>\n",
       "    <tr>\n",
       "      <th>75%</th>\n",
       "      <td>13034.5000</td>\n",
       "      <td>3.000000</td>\n",
       "      <td>1.000000</td>\n",
       "      <td>10.000000</td>\n",
       "      <td>18.000000</td>\n",
       "      <td>0.000000</td>\n",
       "      <td>5.000000</td>\n",
       "      <td>1.000000</td>\n",
       "      <td>2.000000</td>\n",
       "      <td>0.660000</td>\n",
       "      <td>0.621200</td>\n",
       "      <td>0.780000</td>\n",
       "      <td>0.253700</td>\n",
       "      <td>48.000000</td>\n",
       "      <td>220.000000</td>\n",
       "      <td>281.000000</td>\n",
       "    </tr>\n",
       "    <tr>\n",
       "      <th>max</th>\n",
       "      <td>17379.0000</td>\n",
       "      <td>4.000000</td>\n",
       "      <td>1.000000</td>\n",
       "      <td>12.000000</td>\n",
       "      <td>23.000000</td>\n",
       "      <td>1.000000</td>\n",
       "      <td>6.000000</td>\n",
       "      <td>1.000000</td>\n",
       "      <td>4.000000</td>\n",
       "      <td>1.000000</td>\n",
       "      <td>1.000000</td>\n",
       "      <td>1.000000</td>\n",
       "      <td>0.850700</td>\n",
       "      <td>367.000000</td>\n",
       "      <td>886.000000</td>\n",
       "      <td>977.000000</td>\n",
       "    </tr>\n",
       "  </tbody>\n",
       "</table>\n",
       "</div>"
      ],
      "text/plain": [
       "          instant        season            yr          mnth            hr  \\\n",
       "count  17379.0000  17379.000000  17379.000000  17379.000000  17379.000000   \n",
       "mean    8690.0000      2.501640      0.502561      6.537775     11.546752   \n",
       "std     5017.0295      1.106918      0.500008      3.438776      6.914405   \n",
       "min        1.0000      1.000000      0.000000      1.000000      0.000000   \n",
       "25%     4345.5000      2.000000      0.000000      4.000000      6.000000   \n",
       "50%     8690.0000      3.000000      1.000000      7.000000     12.000000   \n",
       "75%    13034.5000      3.000000      1.000000     10.000000     18.000000   \n",
       "max    17379.0000      4.000000      1.000000     12.000000     23.000000   \n",
       "\n",
       "            holiday       weekday    workingday    weathersit          temp  \\\n",
       "count  17379.000000  17379.000000  17379.000000  17379.000000  17379.000000   \n",
       "mean       0.028770      3.003683      0.682721      1.425283      0.496987   \n",
       "std        0.167165      2.005771      0.465431      0.639357      0.192556   \n",
       "min        0.000000      0.000000      0.000000      1.000000      0.020000   \n",
       "25%        0.000000      1.000000      0.000000      1.000000      0.340000   \n",
       "50%        0.000000      3.000000      1.000000      1.000000      0.500000   \n",
       "75%        0.000000      5.000000      1.000000      2.000000      0.660000   \n",
       "max        1.000000      6.000000      1.000000      4.000000      1.000000   \n",
       "\n",
       "              atemp           hum     windspeed        casual    registered  \\\n",
       "count  17379.000000  17379.000000  17379.000000  17379.000000  17379.000000   \n",
       "mean       0.475775      0.627229      0.190098     35.676218    153.786869   \n",
       "std        0.171850      0.192930      0.122340     49.305030    151.357286   \n",
       "min        0.000000      0.000000      0.000000      0.000000      0.000000   \n",
       "25%        0.333300      0.480000      0.104500      4.000000     34.000000   \n",
       "50%        0.484800      0.630000      0.194000     17.000000    115.000000   \n",
       "75%        0.621200      0.780000      0.253700     48.000000    220.000000   \n",
       "max        1.000000      1.000000      0.850700    367.000000    886.000000   \n",
       "\n",
       "                cnt  \n",
       "count  17379.000000  \n",
       "mean     189.463088  \n",
       "std      181.387599  \n",
       "min        1.000000  \n",
       "25%       40.000000  \n",
       "50%      142.000000  \n",
       "75%      281.000000  \n",
       "max      977.000000  "
      ]
     },
     "execution_count": 406,
     "metadata": {},
     "output_type": "execute_result"
    }
   ],
   "source": [
    "# Mendeteksi Outliers (Nilai Ekstrem)\n",
    "hour_df.describe()"
   ]
  },
  {
   "cell_type": "code",
   "execution_count": 407,
   "metadata": {},
   "outputs": [
    {
     "data": {
      "image/png": "[encoded data removed]",
      "text/plain": [
       "<Figure size 1800x1000 with 5 Axes>"
      ]
     },
     "metadata": {},
     "output_type": "display_data"
    }
   ],
   "source": [
    "# Membuat figure untuk multiple boxplots\n",
    "fig, axes = plt.subplots(2, 3, figsize=(18, 10))\n",
    "\n",
    "# Daftar kolom yang ingin diperiksa outliers\n",
    "columns = [\"cnt\", \"casual\", \"registered\", \"windspeed\", \"hum\"]\n",
    "\n",
    "# Loop untuk membuat boxplot\n",
    "for i, col in enumerate(columns):\n",
    "    row, col_index = divmod(i, 3)  # Menentukan posisi subplot\n",
    "    sns.boxplot(y=hour_df[col], ax=axes[row, col_index])\n",
    "    axes[row, col_index].set_title(f\"Boxplot of {col}\")\n",
    "\n",
    "# Menghapus subplot kosong\n",
    "fig.delaxes(axes[1, 2])\n",
    "\n",
    "# Menampilkan plot\n",
    "plt.tight_layout()\n",
    "plt.show()"
   ]
  },
  {
   "cell_type": "markdown",
   "metadata": {},
   "source": [
    "Dari visualisasi boxplot, kita bisa mengidentifikasi beberapa outliers dalam dataset:\n",
    "\n",
    "1. Jumlah Penyewaan (cnt)\n",
    "   - Banyak outliers di atas 600-800 penyewaan per jam.\n",
    "   - Ini menunjukkan ada jam-jam tertentu dengan permintaan sangat tinggi dibandingkan rata-rata.\n",
    "2. Penyewa casual (casual)\n",
    "   - Outliers terlihat jelas di atas 100 penyewaan casual per jam.\n",
    "   - Kemungkinan ini terjadi di jam liburan atau akhir pekan ketika banyak pengguna non-terdaftar menyewa sepeda.\n",
    "3. Penyewa Terdaftar (registered)\n",
    "   - Outliers terlihat di atas 400-600 penyewaan per jam.\n",
    "   - Ini bisa terjadi saat jam sibuk (seperti pagi dan sore hari).\n",
    "4. Kecepatan Angin (winspeed)\n",
    "   - Beberapa outlier ditemukan di atas 0.6, yang menunjukkan kondisi angin yang lebih tinggi dari normal.\n",
    "   - Bisa jadi beberapa jam dalam dataset mengalami cuaca ekstrem dengan angin kencang.\n",
    "5. Kelembaban (hum)\n",
    "   - Ada outliers di nilai kelembaban 0, yang tidak mungkin terjadi dalam kondisi cuaca normal.\n",
    "   - Ini bisa jadi kesalahan pencatatan atau data yang hilang dna dikonversi ke nol.\n",
    "\n",
    "**Kesimpulan**\n",
    "- Outliers dalam cnt, casual, dan registered menunjukkan ada jam tertentu dengan peningkatan drastis dalam penyewaan sepeda.\n",
    "- Outliers dalam windspeed dan hum bisa menunjukkan anomali cuaca yang perlu diperika lebih lanjut.\n",
    "\n",
    "**Langkah Selanjutnya**\n",
    "- Cek kapan outliers terjadi\n",
    "- Menentukan apakah outliers akan dipertahankan atau dihapus berdasarkan dampaknya pada analisis"
   ]
  },
  {
   "cell_type": "code",
   "execution_count": 408,
   "metadata": {},
   "outputs": [
    {
     "name": "stdout",
     "output_type": "stream",
     "text": [
      "atemp            0\n",
      "casual        1192\n",
      "cnt            505\n",
      "dteday           0\n",
      "holiday          0\n",
      "hr               0\n",
      "hum             22\n",
      "instant          0\n",
      "mnth             0\n",
      "registered     680\n",
      "season           0\n",
      "temp             0\n",
      "weathersit       0\n",
      "weekday          0\n",
      "windspeed      342\n",
      "workingday       0\n",
      "yr               0\n",
      "dtype: int64\n"
     ]
    }
   ],
   "source": [
    "# Menemukan outliers menggunakan metode IQR (Interquartile Range)\n",
    "Q1 = hour_df[[\"cnt\", \"casual\", \"registered\", \"windspeed\", \"hum\"]].quantile(0.25)\n",
    "Q3 = hour_df[[\"cnt\", \"casual\", \"registered\", \"windspeed\", \"hum\"]].quantile(0.75)\n",
    "IQR = Q3 - Q1\n",
    "\n",
    "# Menentukan batas outliers\n",
    "lower_bound = Q1 - 1.5 * IQR\n",
    "upper_bound = Q3 + 1.5 * IQR\n",
    "\n",
    "# Menyelaraskan indeks agar sesuai sebelum perbandingan\n",
    "hour_df_filtered, lower_bound = hour_df.align(lower_bound, axis=1, copy=False)\n",
    "hour_df_filtered, upper_bound = hour_df.align(upper_bound, axis=1, copy=False)\n",
    "\n",
    "# Menampilkan jumlah outliers untuk setiap kolom\n",
    "outliers_count = ((hour_df_filtered < lower_bound) | (hour_df_filtered > upper_bound)).sum()\n",
    "print(outliers_count)\n"
   ]
  },
  {
   "cell_type": "code",
   "execution_count": 409,
   "metadata": {},
   "outputs": [
    {
     "name": "stdout",
     "output_type": "stream",
     "text": [
      "    season  hr  weekday  outlier_count\n",
      "0        1   8        3              1\n",
      "1        1  12        6              1\n",
      "2        1  13        6              1\n",
      "3        1  14        6              1\n",
      "4        1  15        6              1\n",
      "..     ...  ..      ...            ...\n",
      "95       4  17        4              6\n",
      "96       4  17        5              5\n",
      "97       4  17        6              2\n",
      "98       4  18        1              3\n",
      "99       4  18        2              6\n",
      "\n",
      "[100 rows x 4 columns]\n"
     ]
    }
   ],
   "source": [
    "# Mengecek apakah outliers ini wajar atau anomali dengan melihat kapan outliers ini terjadi (hari, jam, atau musim tertentu)\n",
    "# Menambahkan kolom 'outlier_flag' untuk menandai baris dengan outliers\n",
    "hour_df['outlier_flag'] = ((hour_df[\"cnt\"] < lower_bound[\"cnt\"]) | (hour_df[\"cnt\"] > upper_bound[\"cnt\"])).astype(int)\n",
    "\n",
    "# Mengecek kapan outliers paling sering terjadi (berdasarkan jam, hari, dan musim)\n",
    "outlier_analysis = hour_df[hour_df['outlier_flag'] == 1].groupby(['season', 'hr', 'weekday']).size().reset_index(name='outlier_count')\n",
    "\n",
    "# Menampilkan data outlier berdasarkan musim dan jam\n",
    "print(outlier_analysis.head(100))\n"
   ]
  },
  {
   "cell_type": "markdown",
   "metadata": {},
   "source": [
    "Setelah menemukan outliers, beberapa tindakan yang akan kita ambil :\n",
    "1. Biarkan outliers jika memiliki makna\n",
    "   - Penyewaan tinggi di jam 08.00 dan 17.00 kemungkinan terjadi karena jam berangkat dan pulang kerja\n",
    "2. Hapus outliers jika terjadi akibat kesalahan data\n",
    "   - Seperti nilai tidak masuk akal dari hum = 0 dan winspeed > 0.85, jadi disini kita bisa mneghapus outliers."
   ]
  },
  {
   "cell_type": "markdown",
   "metadata": {
    "id": "7dtxhAPrkhPL"
   },
   "source": [
    "**Insight:**\n",
    "- Dataset bersih dari missing values, menghemat waktu dalam proses Data Cleaning\n",
    "- Beberapa outliers wajar (seperti lonjakan penyewaan di jam sibuk), tetapi beberapa (seperti hum = 0) perlu dihapus.\n",
    "- Dataset cukup bervariasi untuk analisis lebih lanjut seperti tren penyewaan berdasarkan waktu, musim, dan cuaca.\n",
    "- Kolom dteday masih berupa string (object), sebaiknya dikonversi ke format datetime agar lebih mudah dianalisis "
   ]
  },
  {
   "cell_type": "markdown",
   "metadata": {
    "id": "EhN5R4hr8DC1"
   },
   "source": [
    "### Cleaning Data"
   ]
  },
  {
   "cell_type": "markdown",
   "metadata": {
    "id": "jVnYpprE9Evz"
   },
   "source": [
    "Pada tahap ini, kita akan membersihkan berbagai masalah yang teridentifikasi dalam proses assessing data."
   ]
  },
  {
   "cell_type": "code",
   "execution_count": 410,
   "metadata": {},
   "outputs": [
    {
     "name": "stdout",
     "output_type": "stream",
     "text": [
      "Jumlah nilai windspeed yang lebih dari batas normal: 0\n",
      "Jumlah nilai kelembaban (hum) yang bernilai 0: 0\n",
      "<class 'pandas.core.frame.DataFrame'>\n",
      "Index: 17016 entries, 0 to 17378\n",
      "Data columns (total 18 columns):\n",
      " #   Column        Non-Null Count  Dtype         \n",
      "---  ------        --------------  -----         \n",
      " 0   instant       17016 non-null  int64         \n",
      " 1   dteday        17016 non-null  datetime64[ns]\n",
      " 2   season        17016 non-null  int64         \n",
      " 3   yr            17016 non-null  int64         \n",
      " 4   mnth          17016 non-null  int64         \n",
      " 5   hr            17016 non-null  int64         \n",
      " 6   holiday       17016 non-null  int64         \n",
      " 7   weekday       17016 non-null  int64         \n",
      " 8   workingday    17016 non-null  int64         \n",
      " 9   weathersit    17016 non-null  int64         \n",
      " 10  temp          17016 non-null  float64       \n",
      " 11  atemp         17016 non-null  float64       \n",
      " 12  hum           17016 non-null  float64       \n",
      " 13  windspeed     17016 non-null  float64       \n",
      " 14  casual        17016 non-null  int64         \n",
      " 15  registered    17016 non-null  int64         \n",
      " 16  cnt           17016 non-null  int64         \n",
      " 17  outlier_flag  17016 non-null  int64         \n",
      "dtypes: datetime64[ns](1), float64(4), int64(13)\n",
      "memory usage: 2.5 MB\n"
     ]
    }
   ],
   "source": [
    "# Mengubah format kolom 'dteday' menjadi datetime\n",
    "df_hour_cleaned = hour_df.copy()  # Membuat salinan dataset\n",
    "df_hour_cleaned['dteday'] = pd.to_datetime(df_hour_cleaned['dteday'])\n",
    "\n",
    "# Menghapus outliers yang tidak masuk akal\n",
    "# Outliers pada windspeed (terlalu tinggi) dan hum (kelembaban 0)\n",
    "df_hour_cleaned = df_hour_cleaned[(df_hour_cleaned[\"windspeed\"] <= upper_bound[\"windspeed\"]) & (df_hour_cleaned[\"hum\"] > 0)]\n",
    "\n",
    "# Mengecek apakah masih ada outliers pada windspeed dan hum setelah cleaning\n",
    "print(\"Jumlah nilai windspeed yang lebih dari batas normal:\", (df_hour_cleaned[\"windspeed\"] > upper_bound[\"windspeed\"]).sum())\n",
    "print(\"Jumlah nilai kelembaban (hum) yang bernilai 0:\", (df_hour_cleaned[\"hum\"] == 0).sum())\n",
    "\n",
    "# Melihat struktur data setelah cleaning\n",
    "df_hour_cleaned.info() "
   ]
  },
  {
   "cell_type": "code",
   "execution_count": 411,
   "metadata": {},
   "outputs": [],
   "source": [
    "df_hour_cleaned.to_csv(\"hour_cleaned.csv\", index=False)"
   ]
  },
  {
   "cell_type": "markdown",
   "metadata": {
    "id": "Q_5ejIqckiSP"
   },
   "source": [
    "**Insight:**\n",
    "- Dataset kini bebas dari outliers yang tidak masuk akal.\n",
    "- Format dteday sudah dikonversi ke format datetime untuk memudahkan analisis waktu"
   ]
  },
  {
   "cell_type": "markdown",
   "metadata": {
    "id": "gp-Y6wU38DC1"
   },
   "source": [
    "## Exploratory Data Analysis (EDA)"
   ]
  },
  {
   "cell_type": "markdown",
   "metadata": {
    "id": "MW7WF2kr8DC1"
   },
   "source": [
    "### Explore Data df_hour_cleaned"
   ]
  },
  {
   "cell_type": "code",
   "execution_count": 412,
   "metadata": {
    "id": "e9CQCZjk8DC2"
   },
   "outputs": [
    {
     "data": {
      "text/html": [
       "<div>\n",
       "<style scoped>\n",
       "    .dataframe tbody tr th:only-of-type {\n",
       "        vertical-align: middle;\n",
       "    }\n",
       "\n",
       "    .dataframe tbody tr th {\n",
       "        vertical-align: top;\n",
       "    }\n",
       "\n",
       "    .dataframe thead th {\n",
       "        text-align: right;\n",
       "    }\n",
       "</style>\n",
       "<table border=\"1\" class=\"dataframe\">\n",
       "  <thead>\n",
       "    <tr style=\"text-align: right;\">\n",
       "      <th></th>\n",
       "      <th>instant</th>\n",
       "      <th>dteday</th>\n",
       "      <th>season</th>\n",
       "      <th>yr</th>\n",
       "      <th>mnth</th>\n",
       "      <th>hr</th>\n",
       "      <th>holiday</th>\n",
       "      <th>weekday</th>\n",
       "      <th>workingday</th>\n",
       "      <th>weathersit</th>\n",
       "      <th>temp</th>\n",
       "      <th>atemp</th>\n",
       "      <th>hum</th>\n",
       "      <th>windspeed</th>\n",
       "      <th>casual</th>\n",
       "      <th>registered</th>\n",
       "      <th>cnt</th>\n",
       "      <th>outlier_flag</th>\n",
       "    </tr>\n",
       "  </thead>\n",
       "  <tbody>\n",
       "    <tr>\n",
       "      <th>count</th>\n",
       "      <td>17016.000000</td>\n",
       "      <td>17016</td>\n",
       "      <td>17016.000000</td>\n",
       "      <td>17016.000000</td>\n",
       "      <td>17016.000000</td>\n",
       "      <td>17016.000000</td>\n",
       "      <td>17016.000000</td>\n",
       "      <td>17016.000000</td>\n",
       "      <td>17016.000000</td>\n",
       "      <td>17016.000000</td>\n",
       "      <td>17016.000000</td>\n",
       "      <td>17016.000000</td>\n",
       "      <td>17016.000000</td>\n",
       "      <td>17016.000000</td>\n",
       "      <td>17016.000000</td>\n",
       "      <td>17016.000000</td>\n",
       "      <td>17016.000000</td>\n",
       "      <td>17016.000000</td>\n",
       "    </tr>\n",
       "    <tr>\n",
       "      <th>mean</th>\n",
       "      <td>8719.636460</td>\n",
       "      <td>2012-01-03 09:56:31.819464192</td>\n",
       "      <td>2.516396</td>\n",
       "      <td>0.502997</td>\n",
       "      <td>6.572873</td>\n",
       "      <td>11.503996</td>\n",
       "      <td>0.028914</td>\n",
       "      <td>2.998002</td>\n",
       "      <td>0.682769</td>\n",
       "      <td>1.422308</td>\n",
       "      <td>0.498235</td>\n",
       "      <td>0.477199</td>\n",
       "      <td>0.630960</td>\n",
       "      <td>0.182814</td>\n",
       "      <td>35.784262</td>\n",
       "      <td>154.048895</td>\n",
       "      <td>189.833157</td>\n",
       "      <td>0.029031</td>\n",
       "    </tr>\n",
       "    <tr>\n",
       "      <th>min</th>\n",
       "      <td>1.000000</td>\n",
       "      <td>2011-01-01 00:00:00</td>\n",
       "      <td>1.000000</td>\n",
       "      <td>0.000000</td>\n",
       "      <td>1.000000</td>\n",
       "      <td>0.000000</td>\n",
       "      <td>0.000000</td>\n",
       "      <td>0.000000</td>\n",
       "      <td>0.000000</td>\n",
       "      <td>1.000000</td>\n",
       "      <td>0.020000</td>\n",
       "      <td>0.000000</td>\n",
       "      <td>0.080000</td>\n",
       "      <td>0.000000</td>\n",
       "      <td>0.000000</td>\n",
       "      <td>0.000000</td>\n",
       "      <td>1.000000</td>\n",
       "      <td>0.000000</td>\n",
       "    </tr>\n",
       "    <tr>\n",
       "      <th>25%</th>\n",
       "      <td>4393.750000</td>\n",
       "      <td>2011-07-06 00:00:00</td>\n",
       "      <td>2.000000</td>\n",
       "      <td>0.000000</td>\n",
       "      <td>4.000000</td>\n",
       "      <td>6.000000</td>\n",
       "      <td>0.000000</td>\n",
       "      <td>1.000000</td>\n",
       "      <td>0.000000</td>\n",
       "      <td>1.000000</td>\n",
       "      <td>0.340000</td>\n",
       "      <td>0.333300</td>\n",
       "      <td>0.480000</td>\n",
       "      <td>0.104500</td>\n",
       "      <td>4.000000</td>\n",
       "      <td>34.000000</td>\n",
       "      <td>40.000000</td>\n",
       "      <td>0.000000</td>\n",
       "    </tr>\n",
       "    <tr>\n",
       "      <th>50%</th>\n",
       "      <td>8697.500000</td>\n",
       "      <td>2012-01-03 00:00:00</td>\n",
       "      <td>3.000000</td>\n",
       "      <td>1.000000</td>\n",
       "      <td>7.000000</td>\n",
       "      <td>11.000000</td>\n",
       "      <td>0.000000</td>\n",
       "      <td>3.000000</td>\n",
       "      <td>1.000000</td>\n",
       "      <td>1.000000</td>\n",
       "      <td>0.500000</td>\n",
       "      <td>0.484800</td>\n",
       "      <td>0.635000</td>\n",
       "      <td>0.164200</td>\n",
       "      <td>17.000000</td>\n",
       "      <td>116.000000</td>\n",
       "      <td>142.000000</td>\n",
       "      <td>0.000000</td>\n",
       "    </tr>\n",
       "    <tr>\n",
       "      <th>75%</th>\n",
       "      <td>13075.250000</td>\n",
       "      <td>2012-07-03 06:00:00</td>\n",
       "      <td>3.000000</td>\n",
       "      <td>1.000000</td>\n",
       "      <td>10.000000</td>\n",
       "      <td>18.000000</td>\n",
       "      <td>0.000000</td>\n",
       "      <td>5.000000</td>\n",
       "      <td>1.000000</td>\n",
       "      <td>2.000000</td>\n",
       "      <td>0.660000</td>\n",
       "      <td>0.621200</td>\n",
       "      <td>0.790000</td>\n",
       "      <td>0.253700</td>\n",
       "      <td>48.250000</td>\n",
       "      <td>221.000000</td>\n",
       "      <td>282.000000</td>\n",
       "      <td>0.000000</td>\n",
       "    </tr>\n",
       "    <tr>\n",
       "      <th>max</th>\n",
       "      <td>17379.000000</td>\n",
       "      <td>2012-12-31 00:00:00</td>\n",
       "      <td>4.000000</td>\n",
       "      <td>1.000000</td>\n",
       "      <td>12.000000</td>\n",
       "      <td>23.000000</td>\n",
       "      <td>1.000000</td>\n",
       "      <td>6.000000</td>\n",
       "      <td>1.000000</td>\n",
       "      <td>4.000000</td>\n",
       "      <td>1.000000</td>\n",
       "      <td>1.000000</td>\n",
       "      <td>1.000000</td>\n",
       "      <td>0.462700</td>\n",
       "      <td>367.000000</td>\n",
       "      <td>886.000000</td>\n",
       "      <td>977.000000</td>\n",
       "      <td>1.000000</td>\n",
       "    </tr>\n",
       "    <tr>\n",
       "      <th>std</th>\n",
       "      <td>5009.380243</td>\n",
       "      <td>NaN</td>\n",
       "      <td>1.103448</td>\n",
       "      <td>0.500006</td>\n",
       "      <td>3.427822</td>\n",
       "      <td>6.933561</td>\n",
       "      <td>0.167570</td>\n",
       "      <td>2.005194</td>\n",
       "      <td>0.465412</td>\n",
       "      <td>0.635204</td>\n",
       "      <td>0.192770</td>\n",
       "      <td>0.171556</td>\n",
       "      <td>0.190498</td>\n",
       "      <td>0.112016</td>\n",
       "      <td>49.419374</td>\n",
       "      <td>151.680591</td>\n",
       "      <td>181.762553</td>\n",
       "      <td>0.167900</td>\n",
       "    </tr>\n",
       "  </tbody>\n",
       "</table>\n",
       "</div>"
      ],
      "text/plain": [
       "            instant                         dteday        season  \\\n",
       "count  17016.000000                          17016  17016.000000   \n",
       "mean    8719.636460  2012-01-03 09:56:31.819464192      2.516396   \n",
       "min        1.000000            2011-01-01 00:00:00      1.000000   \n",
       "25%     4393.750000            2011-07-06 00:00:00      2.000000   \n",
       "50%     8697.500000            2012-01-03 00:00:00      3.000000   \n",
       "75%    13075.250000            2012-07-03 06:00:00      3.000000   \n",
       "max    17379.000000            2012-12-31 00:00:00      4.000000   \n",
       "std     5009.380243                            NaN      1.103448   \n",
       "\n",
       "                 yr          mnth            hr       holiday       weekday  \\\n",
       "count  17016.000000  17016.000000  17016.000000  17016.000000  17016.000000   \n",
       "mean       0.502997      6.572873     11.503996      0.028914      2.998002   \n",
       "min        0.000000      1.000000      0.000000      0.000000      0.000000   \n",
       "25%        0.000000      4.000000      6.000000      0.000000      1.000000   \n",
       "50%        1.000000      7.000000     11.000000      0.000000      3.000000   \n",
       "75%        1.000000     10.000000     18.000000      0.000000      5.000000   \n",
       "max        1.000000     12.000000     23.000000      1.000000      6.000000   \n",
       "std        0.500006      3.427822      6.933561      0.167570      2.005194   \n",
       "\n",
       "         workingday    weathersit          temp         atemp           hum  \\\n",
       "count  17016.000000  17016.000000  17016.000000  17016.000000  17016.000000   \n",
       "mean       0.682769      1.422308      0.498235      0.477199      0.630960   \n",
       "min        0.000000      1.000000      0.020000      0.000000      0.080000   \n",
       "25%        0.000000      1.000000      0.340000      0.333300      0.480000   \n",
       "50%        1.000000      1.000000      0.500000      0.484800      0.635000   \n",
       "75%        1.000000      2.000000      0.660000      0.621200      0.790000   \n",
       "max        1.000000      4.000000      1.000000      1.000000      1.000000   \n",
       "std        0.465412      0.635204      0.192770      0.171556      0.190498   \n",
       "\n",
       "          windspeed        casual    registered           cnt  outlier_flag  \n",
       "count  17016.000000  17016.000000  17016.000000  17016.000000  17016.000000  \n",
       "mean       0.182814     35.784262    154.048895    189.833157      0.029031  \n",
       "min        0.000000      0.000000      0.000000      1.000000      0.000000  \n",
       "25%        0.104500      4.000000     34.000000     40.000000      0.000000  \n",
       "50%        0.164200     17.000000    116.000000    142.000000      0.000000  \n",
       "75%        0.253700     48.250000    221.000000    282.000000      0.000000  \n",
       "max        0.462700    367.000000    886.000000    977.000000      1.000000  \n",
       "std        0.112016     49.419374    151.680591    181.762553      0.167900  "
      ]
     },
     "execution_count": 412,
     "metadata": {},
     "output_type": "execute_result"
    }
   ],
   "source": [
    "df_hour_cleaned.describe()"
   ]
  },
  {
   "cell_type": "code",
   "execution_count": 413,
   "metadata": {},
   "outputs": [
    {
     "name": "stdout",
     "output_type": "stream",
     "text": [
      "Sebelum cleaning: instant         0\n",
      "dteday          0\n",
      "season          0\n",
      "yr              0\n",
      "mnth            0\n",
      "hr              0\n",
      "holiday         0\n",
      "weekday         0\n",
      "workingday      0\n",
      "weathersit      0\n",
      "temp            0\n",
      "atemp           0\n",
      "hum             0\n",
      "windspeed       0\n",
      "casual          0\n",
      "registered      0\n",
      "cnt             0\n",
      "outlier_flag    0\n",
      "dtype: int64\n",
      "Setelah cleaning: instant         0\n",
      "dteday          0\n",
      "season          0\n",
      "yr              0\n",
      "mnth            0\n",
      "hr              0\n",
      "holiday         0\n",
      "weekday         0\n",
      "workingday      0\n",
      "weathersit      0\n",
      "temp            0\n",
      "atemp           0\n",
      "hum             0\n",
      "windspeed       0\n",
      "casual          0\n",
      "registered      0\n",
      "cnt             0\n",
      "outlier_flag    0\n",
      "dtype: int64\n"
     ]
    }
   ],
   "source": [
    "print(\"Sebelum cleaning:\", hour_df.isnull().sum())\n",
    "print(\"Setelah cleaning:\", df_hour_cleaned.isnull().sum())\n"
   ]
  },
  {
   "cell_type": "code",
   "execution_count": 414,
   "metadata": {},
   "outputs": [
    {
     "name": "stdout",
     "output_type": "stream",
     "text": [
      "<class 'pandas.core.frame.DataFrame'>\n",
      "Index: 17016 entries, 0 to 17378\n",
      "Data columns (total 18 columns):\n",
      " #   Column        Non-Null Count  Dtype         \n",
      "---  ------        --------------  -----         \n",
      " 0   instant       17016 non-null  int64         \n",
      " 1   dteday        17016 non-null  datetime64[ns]\n",
      " 2   season        17016 non-null  int64         \n",
      " 3   yr            17016 non-null  int64         \n",
      " 4   mnth          17016 non-null  int64         \n",
      " 5   hr            17016 non-null  int64         \n",
      " 6   holiday       17016 non-null  int64         \n",
      " 7   weekday       17016 non-null  int64         \n",
      " 8   workingday    17016 non-null  int64         \n",
      " 9   weathersit    17016 non-null  int64         \n",
      " 10  temp          17016 non-null  float64       \n",
      " 11  atemp         17016 non-null  float64       \n",
      " 12  hum           17016 non-null  float64       \n",
      " 13  windspeed     17016 non-null  float64       \n",
      " 14  casual        17016 non-null  int64         \n",
      " 15  registered    17016 non-null  int64         \n",
      " 16  cnt           17016 non-null  int64         \n",
      " 17  outlier_flag  17016 non-null  int64         \n",
      "dtypes: datetime64[ns](1), float64(4), int64(13)\n",
      "memory usage: 2.5 MB\n"
     ]
    }
   ],
   "source": [
    "df_hour_cleaned.info()"
   ]
  },
  {
   "cell_type": "code",
   "execution_count": 415,
   "metadata": {},
   "outputs": [],
   "source": [
    "hour_df[\"dteday\"] = pd.to_datetime(hour_df[\"dteday\"], errors=\"coerce\")"
   ]
  },
  {
   "cell_type": "code",
   "execution_count": 416,
   "metadata": {},
   "outputs": [
    {
     "name": "stdout",
     "output_type": "stream",
     "text": [
      "Jumlah baris sebelum cleaning: 17379\n",
      "Jumlah baris setelah cleaning: 17016\n"
     ]
    }
   ],
   "source": [
    "print(\"Jumlah baris sebelum cleaning:\", len(hour_df))\n",
    "print(\"Jumlah baris setelah cleaning:\", len(df_hour_cleaned))\n"
   ]
  },
  {
   "cell_type": "code",
   "execution_count": 417,
   "metadata": {},
   "outputs": [
    {
     "name": "stdout",
     "output_type": "stream",
     "text": [
      "0\n"
     ]
    }
   ],
   "source": [
    "# Jumlah nilai NaN dalam kolom dteday\n",
    "print(df_hour_cleaned[\"dteday\"].isnull().sum())"
   ]
  },
  {
   "cell_type": "code",
   "execution_count": 418,
   "metadata": {},
   "outputs": [],
   "source": [
    "df_hour_cleaned[\"dteday\"] = pd.to_datetime(hour_df[\"dteday\"], errors=\"coerce\")"
   ]
  },
  {
   "cell_type": "code",
   "execution_count": 419,
   "metadata": {},
   "outputs": [
    {
     "name": "stdout",
     "output_type": "stream",
     "text": [
      "0\n"
     ]
    }
   ],
   "source": [
    "# Jumlah nilai NaN dalam kolom dteday\n",
    "print(df_hour_cleaned[\"dteday\"].isnull().sum())"
   ]
  },
  {
   "cell_type": "code",
   "execution_count": 420,
   "metadata": {},
   "outputs": [
    {
     "data": {
      "text/html": [
       "<div>\n",
       "<style scoped>\n",
       "    .dataframe tbody tr th:only-of-type {\n",
       "        vertical-align: middle;\n",
       "    }\n",
       "\n",
       "    .dataframe tbody tr th {\n",
       "        vertical-align: top;\n",
       "    }\n",
       "\n",
       "    .dataframe thead th {\n",
       "        text-align: right;\n",
       "    }\n",
       "</style>\n",
       "<table border=\"1\" class=\"dataframe\">\n",
       "  <thead>\n",
       "    <tr style=\"text-align: right;\">\n",
       "      <th></th>\n",
       "      <th>instant</th>\n",
       "      <th>dteday</th>\n",
       "      <th>season</th>\n",
       "      <th>yr</th>\n",
       "      <th>mnth</th>\n",
       "      <th>hr</th>\n",
       "      <th>holiday</th>\n",
       "      <th>weekday</th>\n",
       "      <th>workingday</th>\n",
       "      <th>weathersit</th>\n",
       "      <th>temp</th>\n",
       "      <th>atemp</th>\n",
       "      <th>hum</th>\n",
       "      <th>windspeed</th>\n",
       "      <th>casual</th>\n",
       "      <th>registered</th>\n",
       "      <th>cnt</th>\n",
       "      <th>outlier_flag</th>\n",
       "    </tr>\n",
       "  </thead>\n",
       "  <tbody>\n",
       "    <tr>\n",
       "      <th>count</th>\n",
       "      <td>17016.000000</td>\n",
       "      <td>17016</td>\n",
       "      <td>17016.000000</td>\n",
       "      <td>17016.000000</td>\n",
       "      <td>17016.000000</td>\n",
       "      <td>17016.000000</td>\n",
       "      <td>17016.000000</td>\n",
       "      <td>17016.000000</td>\n",
       "      <td>17016.000000</td>\n",
       "      <td>17016.000000</td>\n",
       "      <td>17016.000000</td>\n",
       "      <td>17016.000000</td>\n",
       "      <td>17016.000000</td>\n",
       "      <td>17016.000000</td>\n",
       "      <td>17016.000000</td>\n",
       "      <td>17016.000000</td>\n",
       "      <td>17016.000000</td>\n",
       "      <td>17016.000000</td>\n",
       "    </tr>\n",
       "    <tr>\n",
       "      <th>mean</th>\n",
       "      <td>8719.636460</td>\n",
       "      <td>2012-01-03 09:56:31.819464192</td>\n",
       "      <td>2.516396</td>\n",
       "      <td>0.502997</td>\n",
       "      <td>6.572873</td>\n",
       "      <td>11.503996</td>\n",
       "      <td>0.028914</td>\n",
       "      <td>2.998002</td>\n",
       "      <td>0.682769</td>\n",
       "      <td>1.422308</td>\n",
       "      <td>0.498235</td>\n",
       "      <td>0.477199</td>\n",
       "      <td>0.630960</td>\n",
       "      <td>0.182814</td>\n",
       "      <td>35.784262</td>\n",
       "      <td>154.048895</td>\n",
       "      <td>189.833157</td>\n",
       "      <td>0.029031</td>\n",
       "    </tr>\n",
       "    <tr>\n",
       "      <th>min</th>\n",
       "      <td>1.000000</td>\n",
       "      <td>2011-01-01 00:00:00</td>\n",
       "      <td>1.000000</td>\n",
       "      <td>0.000000</td>\n",
       "      <td>1.000000</td>\n",
       "      <td>0.000000</td>\n",
       "      <td>0.000000</td>\n",
       "      <td>0.000000</td>\n",
       "      <td>0.000000</td>\n",
       "      <td>1.000000</td>\n",
       "      <td>0.020000</td>\n",
       "      <td>0.000000</td>\n",
       "      <td>0.080000</td>\n",
       "      <td>0.000000</td>\n",
       "      <td>0.000000</td>\n",
       "      <td>0.000000</td>\n",
       "      <td>1.000000</td>\n",
       "      <td>0.000000</td>\n",
       "    </tr>\n",
       "    <tr>\n",
       "      <th>25%</th>\n",
       "      <td>4393.750000</td>\n",
       "      <td>2011-07-06 00:00:00</td>\n",
       "      <td>2.000000</td>\n",
       "      <td>0.000000</td>\n",
       "      <td>4.000000</td>\n",
       "      <td>6.000000</td>\n",
       "      <td>0.000000</td>\n",
       "      <td>1.000000</td>\n",
       "      <td>0.000000</td>\n",
       "      <td>1.000000</td>\n",
       "      <td>0.340000</td>\n",
       "      <td>0.333300</td>\n",
       "      <td>0.480000</td>\n",
       "      <td>0.104500</td>\n",
       "      <td>4.000000</td>\n",
       "      <td>34.000000</td>\n",
       "      <td>40.000000</td>\n",
       "      <td>0.000000</td>\n",
       "    </tr>\n",
       "    <tr>\n",
       "      <th>50%</th>\n",
       "      <td>8697.500000</td>\n",
       "      <td>2012-01-03 00:00:00</td>\n",
       "      <td>3.000000</td>\n",
       "      <td>1.000000</td>\n",
       "      <td>7.000000</td>\n",
       "      <td>11.000000</td>\n",
       "      <td>0.000000</td>\n",
       "      <td>3.000000</td>\n",
       "      <td>1.000000</td>\n",
       "      <td>1.000000</td>\n",
       "      <td>0.500000</td>\n",
       "      <td>0.484800</td>\n",
       "      <td>0.635000</td>\n",
       "      <td>0.164200</td>\n",
       "      <td>17.000000</td>\n",
       "      <td>116.000000</td>\n",
       "      <td>142.000000</td>\n",
       "      <td>0.000000</td>\n",
       "    </tr>\n",
       "    <tr>\n",
       "      <th>75%</th>\n",
       "      <td>13075.250000</td>\n",
       "      <td>2012-07-03 06:00:00</td>\n",
       "      <td>3.000000</td>\n",
       "      <td>1.000000</td>\n",
       "      <td>10.000000</td>\n",
       "      <td>18.000000</td>\n",
       "      <td>0.000000</td>\n",
       "      <td>5.000000</td>\n",
       "      <td>1.000000</td>\n",
       "      <td>2.000000</td>\n",
       "      <td>0.660000</td>\n",
       "      <td>0.621200</td>\n",
       "      <td>0.790000</td>\n",
       "      <td>0.253700</td>\n",
       "      <td>48.250000</td>\n",
       "      <td>221.000000</td>\n",
       "      <td>282.000000</td>\n",
       "      <td>0.000000</td>\n",
       "    </tr>\n",
       "    <tr>\n",
       "      <th>max</th>\n",
       "      <td>17379.000000</td>\n",
       "      <td>2012-12-31 00:00:00</td>\n",
       "      <td>4.000000</td>\n",
       "      <td>1.000000</td>\n",
       "      <td>12.000000</td>\n",
       "      <td>23.000000</td>\n",
       "      <td>1.000000</td>\n",
       "      <td>6.000000</td>\n",
       "      <td>1.000000</td>\n",
       "      <td>4.000000</td>\n",
       "      <td>1.000000</td>\n",
       "      <td>1.000000</td>\n",
       "      <td>1.000000</td>\n",
       "      <td>0.462700</td>\n",
       "      <td>367.000000</td>\n",
       "      <td>886.000000</td>\n",
       "      <td>977.000000</td>\n",
       "      <td>1.000000</td>\n",
       "    </tr>\n",
       "    <tr>\n",
       "      <th>std</th>\n",
       "      <td>5009.380243</td>\n",
       "      <td>NaN</td>\n",
       "      <td>1.103448</td>\n",
       "      <td>0.500006</td>\n",
       "      <td>3.427822</td>\n",
       "      <td>6.933561</td>\n",
       "      <td>0.167570</td>\n",
       "      <td>2.005194</td>\n",
       "      <td>0.465412</td>\n",
       "      <td>0.635204</td>\n",
       "      <td>0.192770</td>\n",
       "      <td>0.171556</td>\n",
       "      <td>0.190498</td>\n",
       "      <td>0.112016</td>\n",
       "      <td>49.419374</td>\n",
       "      <td>151.680591</td>\n",
       "      <td>181.762553</td>\n",
       "      <td>0.167900</td>\n",
       "    </tr>\n",
       "  </tbody>\n",
       "</table>\n",
       "</div>"
      ],
      "text/plain": [
       "            instant                         dteday        season  \\\n",
       "count  17016.000000                          17016  17016.000000   \n",
       "mean    8719.636460  2012-01-03 09:56:31.819464192      2.516396   \n",
       "min        1.000000            2011-01-01 00:00:00      1.000000   \n",
       "25%     4393.750000            2011-07-06 00:00:00      2.000000   \n",
       "50%     8697.500000            2012-01-03 00:00:00      3.000000   \n",
       "75%    13075.250000            2012-07-03 06:00:00      3.000000   \n",
       "max    17379.000000            2012-12-31 00:00:00      4.000000   \n",
       "std     5009.380243                            NaN      1.103448   \n",
       "\n",
       "                 yr          mnth            hr       holiday       weekday  \\\n",
       "count  17016.000000  17016.000000  17016.000000  17016.000000  17016.000000   \n",
       "mean       0.502997      6.572873     11.503996      0.028914      2.998002   \n",
       "min        0.000000      1.000000      0.000000      0.000000      0.000000   \n",
       "25%        0.000000      4.000000      6.000000      0.000000      1.000000   \n",
       "50%        1.000000      7.000000     11.000000      0.000000      3.000000   \n",
       "75%        1.000000     10.000000     18.000000      0.000000      5.000000   \n",
       "max        1.000000     12.000000     23.000000      1.000000      6.000000   \n",
       "std        0.500006      3.427822      6.933561      0.167570      2.005194   \n",
       "\n",
       "         workingday    weathersit          temp         atemp           hum  \\\n",
       "count  17016.000000  17016.000000  17016.000000  17016.000000  17016.000000   \n",
       "mean       0.682769      1.422308      0.498235      0.477199      0.630960   \n",
       "min        0.000000      1.000000      0.020000      0.000000      0.080000   \n",
       "25%        0.000000      1.000000      0.340000      0.333300      0.480000   \n",
       "50%        1.000000      1.000000      0.500000      0.484800      0.635000   \n",
       "75%        1.000000      2.000000      0.660000      0.621200      0.790000   \n",
       "max        1.000000      4.000000      1.000000      1.000000      1.000000   \n",
       "std        0.465412      0.635204      0.192770      0.171556      0.190498   \n",
       "\n",
       "          windspeed        casual    registered           cnt  outlier_flag  \n",
       "count  17016.000000  17016.000000  17016.000000  17016.000000  17016.000000  \n",
       "mean       0.182814     35.784262    154.048895    189.833157      0.029031  \n",
       "min        0.000000      0.000000      0.000000      1.000000      0.000000  \n",
       "25%        0.104500      4.000000     34.000000     40.000000      0.000000  \n",
       "50%        0.164200     17.000000    116.000000    142.000000      0.000000  \n",
       "75%        0.253700     48.250000    221.000000    282.000000      0.000000  \n",
       "max        0.462700    367.000000    886.000000    977.000000      1.000000  \n",
       "std        0.112016     49.419374    151.680591    181.762553      0.167900  "
      ]
     },
     "execution_count": 420,
     "metadata": {},
     "output_type": "execute_result"
    }
   ],
   "source": [
    "df_hour_cleaned.describe(include=\"all\")"
   ]
  },
  {
   "cell_type": "code",
   "execution_count": 421,
   "metadata": {},
   "outputs": [
    {
     "name": "stdout",
     "output_type": "stream",
     "text": [
      "Rata-rata Penyewaan Sepeda Berdasarkan Kondisi Cuaca\n",
      "   weathersit         cnt\n",
      "0           1  254.223933\n",
      "1           2  212.556868\n",
      "2           3  140.953376\n",
      "3           4   93.500000\n",
      "\n",
      "Rata-rata Penyewaan Sepeda Berdasarkan Jam dalam Sehari\n",
      "    hr         cnt\n",
      "0    0   54.069348\n",
      "1    1   33.566852\n",
      "2    2   22.947740\n",
      "3    3   11.783745\n",
      "4    4    6.414847\n",
      "5    5   19.907173\n",
      "6    6   76.108484\n",
      "7    7  212.568276\n",
      "8    8  360.469188\n",
      "9    9  220.139437\n",
      "10  10  174.947887\n",
      "11  11  209.465638\n",
      "12  12  255.488539\n",
      "13  13  254.988685\n",
      "14  14  244.317664\n",
      "15  15  253.657143\n",
      "16  16  313.582511\n",
      "17  17  465.563920\n",
      "18  18  429.972973\n",
      "19  19  315.182841\n",
      "20  20  228.235543\n",
      "21  21  173.952314\n",
      "22  22  132.287115\n",
      "23  23   88.331484\n",
      "\n",
      "Rata-rata Penyewaan Sepeda Berdasarkan Musim\n",
      "   season         cnt\n",
      "0       1  147.039423\n",
      "1       2  258.646161\n",
      "2       3  283.563701\n",
      "3       4  245.437019\n",
      "\n",
      "Rata-rata Penyewaan Berdasarkan Hari Kerja\n",
      "   workingday         cnt\n",
      "0           0  221.115596\n",
      "1           1  241.230031\n"
     ]
    }
   ],
   "source": [
    "hour_df_2012 = df_hour_cleaned[df_hour_cleaned[\"yr\"] == 1]\n",
    "\n",
    "# Rata-rata penyewaan sepeda berdasarkan kondisi cuaca\n",
    "weather_group = hour_df_2012.groupby(\"weathersit\")[\"cnt\"].mean().reset_index()\n",
    "\n",
    "# Rata-rata penyewaan sepeda berdasarkan jam dalam sehari\n",
    "hour_group = df_hour_cleaned.groupby(\"hr\")[\"cnt\"].mean().reset_index()\n",
    "\n",
    "# Rata-rata penyewaan sepeda berdasarkan musim\n",
    "season_group = hour_df_2012.groupby(\"season\")[\"cnt\"].mean().reset_index()\n",
    "\n",
    "# Rata-rata penyewaan berdasarkan hari kerja\n",
    "workingday_group = hour_df_2012.groupby(\"workingday\")[\"cnt\"].mean().reset_index()\n",
    "\n",
    "print(\"Rata-rata Penyewaan Sepeda Berdasarkan Kondisi Cuaca\")\n",
    "print(weather_group)\n",
    "\n",
    "print(\"\\nRata-rata Penyewaan Sepeda Berdasarkan Jam dalam Sehari\")\n",
    "print(hour_group)\n",
    "\n",
    "print(\"\\nRata-rata Penyewaan Sepeda Berdasarkan Musim\")\n",
    "print(season_group)\n",
    "\n",
    "print(\"\\nRata-rata Penyewaan Berdasarkan Hari Kerja\")\n",
    "print(workingday_group)\n"
   ]
  },
  {
   "cell_type": "markdown",
   "metadata": {
    "id": "th_Lzl2Fkj9O"
   },
   "source": [
    "**Insight:**\n",
    "- Cuaca buruk menurunkan jumlah penyewaan sepeda secara signifikan.\n",
    "- Puncak penyewaan terjadi pada jam commuting (08:00 & 17:00).\n",
    "- Musim panas dan gugur memiliki permintaan tertinggi.\n",
    "- Penyewaan lebih tinggi di hari kerja dibandingkan hari libur."
   ]
  },
  {
   "cell_type": "markdown",
   "metadata": {
    "id": "zsyZjqak8DC2"
   },
   "source": [
    "## Visualization & Explanatory Analysis"
   ]
  },
  {
   "cell_type": "markdown",
   "metadata": {
    "id": "HZxOiQ6n8DC2"
   },
   "source": [
    "### Pertanyaan 1:"
   ]
  },
  {
   "cell_type": "markdown",
   "metadata": {},
   "source": [
    "Bagaimana pengaruh kondisi cuaca terhadap jumlah sepeda yang disewa per jam di tahun 2012?"
   ]
  },
  {
   "cell_type": "code",
   "execution_count": 422,
   "metadata": {
    "id": "1swJUdAD8DC2"
   },
   "outputs": [
    {
     "name": "stderr",
     "output_type": "stream",
     "text": [
      "C:\\Users\\Lenovo\\AppData\\Local\\Temp\\ipykernel_32684\\3058064575.py:2: FutureWarning: \n",
      "\n",
      "Passing `palette` without assigning `hue` is deprecated and will be removed in v0.14.0. Assign the `x` variable to `hue` and set `legend=False` for the same effect.\n",
      "\n",
      "  sns.barplot(x=weather_group[\"weathersit\"], y=weather_group[\"cnt\"], palette=\"coolwarm\")\n"
     ]
    },
    {
     "data": {
      "image/png": "[encoded data removed]",
      "text/plain": [
       "<Figure size 800x500 with 1 Axes>"
      ]
     },
     "metadata": {},
     "output_type": "display_data"
    }
   ],
   "source": [
    "plt.figure(figsize=(8, 5))\n",
    "sns.barplot(x=weather_group[\"weathersit\"], y=weather_group[\"cnt\"], palette=\"coolwarm\")\n",
    "plt.xlabel(\"Kondisi Cuaca (1 = Cerah, 2 = Berawan, 3 = Hujan ringan, 4 = Badai)\")\n",
    "plt.ylabel(\"Rata-rata Penyewaan Sepeda per Jam\")\n",
    "plt.title(\"Pengaruh Kondisi Cuaca terhadap Penyewaan Sepeda (Tahun 2012)\")\n",
    "plt.show()\n"
   ]
  },
  {
   "cell_type": "markdown",
   "metadata": {},
   "source": [
    "Chart menunjukkan bahwa :\n",
    "- Cuaca cerah (1) memiliki jumlah penyewaan tertinggi, dengan rata-rata lebih dari 250 penyewaan per jam.\n",
    "- Saat cuaca berawan (2), jumlah penyewaan menurun, tetapi masih cukup tinggi.\n",
    "- Hujan ringan (3) dan badai (4) menyebabkan penurunan signifikan dalam jumlah penyewaan, dengan badai memiliki jumlah penyewaan paling rendah.\n",
    "\n",
    "**Insight**\n",
    "Semakin buruk cuaca, semakin sedikit jumlah penyewaan sepeda.\n",
    "Semakin cerah cuaca, semakin banyak jumlah penyewaan sepeda."
   ]
  },
  {
   "cell_type": "markdown",
   "metadata": {
    "id": "DgHI7CiU8DC2"
   },
   "source": [
    "### Pertanyaan 2:"
   ]
  },
  {
   "cell_type": "markdown",
   "metadata": {},
   "source": [
    "Pada jam berapa dalam sehari permintaan penyewaan sepeda mencapai puncaknya?"
   ]
  },
  {
   "cell_type": "code",
   "execution_count": 423,
   "metadata": {
    "id": "Go0lCsvO8DC2"
   },
   "outputs": [
    {
     "data": {
      "image/png": "[encoded data removed]",
      "text/plain": [
       "<Figure size 1000x500 with 1 Axes>"
      ]
     },
     "metadata": {},
     "output_type": "display_data"
    },
    {
     "data": {
      "image/png": "[encoded data removed]",
      "text/plain": [
       "<Figure size 1200x600 with 2 Axes>"
      ]
     },
     "metadata": {},
     "output_type": "display_data"
    }
   ],
   "source": [
    "plt.figure(figsize=(10, 5))\n",
    "sns.lineplot(x=df_hour_cleaned[\"hr\"], y=df_hour_cleaned[\"cnt\"], marker=\"o\", color=\"b\")\n",
    "plt.xlabel(\"Jam dalam Sehari\")\n",
    "plt.ylabel(\"Rata-rata Penyewaan Sepeda\")\n",
    "plt.title(\"Tren Permintaan Penyewaan Sepeda Berdasarkan Jam dalam Sehari (All time)\")\n",
    "plt.grid()\n",
    "plt.show()\n",
    "\n",
    "pivot_table_all_time = df_hour_cleaned.pivot_table(index=\"weekday\", columns=\"hr\", values=\"cnt\", aggfunc=\"mean\")\n",
    "plt.figure(figsize=(12, 6))\n",
    "sns.heatmap(pivot_table_all_time, cmap=\"coolwarm\", annot=False, linewidths=0.5)\n",
    "plt.xlabel(\"Jam dalam Sehari\")\n",
    "plt.ylabel(\"Hari dalam Seminggu (0 = Minggu, 6 = Sabtu)\")\n",
    "plt.title(\"Heatmap Penyewaan Sepeda Berdasarkan Jam dan Hari (All Time)\")\n",
    "plt.show()\n"
   ]
  },
  {
   "cell_type": "markdown",
   "metadata": {},
   "source": [
    "Chart \"Tren Permintaan Penyewaan Sepeda Berdasarkan Jam dalam Sehari\" menunjukkan bahwa:\n",
    "- Penyewaan meningkat tajam pada pagi hari sekitar pukul 07:00 - 09:00, mencerminkan penggunaan sepeda untuk perjalanan ke kantor/sekolah.\n",
    "- Pada sore hari (sekitar pukul 17:00 - 19:00), penyewaan kembali naik signifikan, menunjukkan bahwa banyak pengguna menggunakan sepeda untuk pulang dari kantor/sekolah.\n",
    "- Setelah pukul 20:00, penyewaan mulai menurun drastis hingga mencapai titik terendah pada larut malam.\n",
    "- Lonjakan penyewaan pada pagi dan sore menunjukkan pola commuting (berangkat & pulang kerja).\n",
    "\n",
    "**Insight**\n",
    "Penyewaan sepeda memiliki pola jam sibuk yang jelas, dengan puncak di pagi dan sore hari.\n",
    "\n",
    "<br>\n",
    "\n",
    "Chart \"Heatmap Penyewaan Sepeda Berdasarkan Jam dan Hari\" menunjukkan bahwa:\n",
    "- Hari kerja (Senin - Jumat) menunjukkan pola puncak yang jelas pada pukul 07:00 - 09:00 dan 17:00 - 19:00, yang sesuai dengan pola commuting (perjalanan kerja/sekolah).\n",
    "- Akhir pekan (Sabtu & Minggu) tidak memiliki lonjakan tajam pada pagi hari, tetapi penyewaan tetap tinggi sepanjang siang hingga sore hari, menunjukkan penggunaan untuk rekreasi.\n",
    "- Penyewaan sangat rendah pada larut malam dan dini hari (00:00 - 05:00) di semua hari.\n",
    "\n",
    "**Insight**\n",
    "Hari kerja lebih dipengaruhi oleh jam sibuk kerja/sekolah, sementara akhir pekan lebih fleksibel dengan penyewaan tinggi sepanjang siang dan sore.\n",
    "\n",
    "\n"
   ]
  },
  {
   "cell_type": "markdown",
   "metadata": {
    "id": "9y4VUsmcYNZ5"
   },
   "source": [
    "## Menerapkan teknik analisis lanjutan"
   ]
  },
  {
   "cell_type": "markdown",
   "metadata": {
    "id": "iWhnzsJGYUCO"
   },
   "source": [
    "## 1. RFM Analysis"
   ]
  },
  {
   "cell_type": "markdown",
   "metadata": {},
   "source": [
    "RFM Analysis pada dataset ini digunakan untuk menganalisis pola penyewaan sepeda berdasarkan tiga faktor utama:\n",
    "\n",
    "- Recency (R): Jumlah hari sejak terakhir kali penyewaan terjadi. Semakin kecil nilainya, semakin baru aktivitas penyewaan terakhir.\n",
    "- Frequency (F): Jumlah transaksi penyewaan sepeda dalam satu hari, dihitung berdasarkan jumlah jam yang tercatat.\n",
    "- Monetary (M): Total jumlah sepeda yang disewa dalam sehari."
   ]
  },
  {
   "cell_type": "code",
   "execution_count": 424,
   "metadata": {},
   "outputs": [
    {
     "name": "stdout",
     "output_type": "stream",
     "text": [
      "      dteday  Recency  Frequency  Monetary\n",
      "0 2011-01-01      730         24       985\n",
      "1 2011-01-02      729         23       801\n",
      "2 2011-01-03      728         22      1349\n",
      "3 2011-01-04      727         23      1562\n",
      "4 2011-01-05      726         23      1600\n"
     ]
    }
   ],
   "source": [
    "# Mengubah kolom tanggal menjadi format datetime\n",
    "df_hour_cleaned['dteday'] = pd.to_datetime(df_hour_cleaned['dteday'])\n",
    "\n",
    "# Mengelompokkan data berdasarkan tanggal (diasumsikan setiap hari mewakili satu entitas pelanggan)\n",
    "rfm_df = df_hour_cleaned.groupby('dteday').agg(\n",
    "    Recency=('dteday', lambda x: (df_hour_cleaned['dteday'].max() - x.max()).days),  # Jumlah hari sejak penyewaan terakhir\n",
    "    Frequency=('cnt', 'count'),  # Jumlah transaksi dalam sehari (dihitung berdasarkan jumlah jam yang tercatat)\n",
    "    Monetary=('cnt', 'sum')  # Total jumlah sepeda yang disewa dalam sehari\n",
    ").reset_index()\n",
    "\n",
    "# Menampilkan lima baris pertama dari hasil analisis RFM\n",
    "print(rfm_df.head())\n"
   ]
  },
  {
   "cell_type": "markdown",
   "metadata": {},
   "source": [
    "## Analisis Clustering\n",
    "### Manual Grouping : Mengelompokkan jam sibuk dan tidak sibuk"
   ]
  },
  {
   "cell_type": "markdown",
   "metadata": {},
   "source": [
    "Kita akan mengelompokkan jam dalam sehari menjadi:\n",
    "\n",
    "- Jam Sibuk (Peak Hours): 7-9 pagi dan 16-19 sore (jam kerja dan pulang kerja).\n",
    "- Jam Normal (Normal Hours): 10-15 siang.\n",
    "- Jam Sepi (Off-Peak Hours): 20-6 malam hingga pagi."
   ]
  },
  {
   "cell_type": "code",
   "execution_count": 425,
   "metadata": {},
   "outputs": [
    {
     "name": "stdout",
     "output_type": "stream",
     "text": [
      "    Hour_Category         cnt\n",
      "0    Normal Hours  231.971868\n",
      "1  Off-Peak Hours   77.429065\n",
      "2      Peak Hours  330.433883\n"
     ]
    }
   ],
   "source": [
    "# Menentukan kategori jam berdasarkan aturan bisnis\n",
    "def categorize_hour(hour):\n",
    "    if 7 <= hour <= 9 or 16 <= hour <= 19:\n",
    "        return 'Peak Hours'  # Jam Sibuk\n",
    "    elif 10 <= hour <= 15:\n",
    "        return 'Normal Hours'  # Jam Normal\n",
    "    else:\n",
    "        return 'Off-Peak Hours'  # Jam Sepi\n",
    "\n",
    "# Menambahkan kolom kategori jam\n",
    "df_hour_cleaned['Hour_Category'] = df_hour_cleaned['hr'].apply(categorize_hour)\n",
    "\n",
    "# Menghitung rata-rata jumlah penyewaan berdasarkan kategori jam\n",
    "hourly_clustering = df_hour_cleaned.groupby('Hour_Category')['cnt'].mean().reset_index()\n",
    "\n",
    "# Menampilkan lima baris pertama hasil clustering\n",
    "print(hourly_clustering.head())"
   ]
  },
  {
   "cell_type": "markdown",
   "metadata": {},
   "source": [
    "- Jam Sibuk (Peak Hours) memiliki penyewaan tertinggi (328/jam), terutama saat jam kerja dan pulang kerja.\n",
    "- Jam Normal (Normal Hours) cukup aktif (230/jam), kemungkinan untuk aktivitas santai atau kerja fleksibel.\n",
    "- Jam Sepi (Off-Peak Hours) memiliki penyewaan paling rendah (77/jam), wajar karena aktivitas malam lebih sedikit.\n",
    "\n",
    "**Rekomendasi:**\n",
    "Tambah stok sepeda di jam sibuk, buat promo di jam normal & sepi, serta tingkatkan keamanan malam hari."
   ]
  },
  {
   "cell_type": "markdown",
   "metadata": {
    "id": "_WeHlCeX8DC2"
   },
   "source": [
    "## Conclusion"
   ]
  },
  {
   "cell_type": "markdown",
   "metadata": {
    "id": "ZTcyR48Y8DC2"
   },
   "source": [
    "- Conclution pertanyaan 1 <br>\n",
    "Cuaca memiliki dampak besar terhadap permintaan penyewaan sepeda. Semakin buruk cuaca, semakin sedikit orang yang menyewa sepeda. Namun, masih ada pengguna yang tetap menyewa sepeda meskipun cuaca tidak ideal, terutama pada jam-jam sibuk.\n",
    "<br>\n",
    "- Conclution pertanyaan 2 <br>\n",
    "Pola ini menunjukkan bahwa banyak pengguna menyewa sepeda untuk commuting (pergi & pulang kerja). Sistem penyewaan sepeda dapat mengalokasikan lebih banyak sepeda pada jam sibuk untuk meningkatkan efisiensi layanan."
   ]
  },
  {
   "cell_type": "code",
   "execution_count": 426,
   "metadata": {},
   "outputs": [],
   "source": [
    "df_hour_cleaned.to_csv(\"df_hour_cleaned.csv\", index=False)"
   ]
  }
 ],
 "metadata": {
  "colab": {
   "provenance": []
  },
  "kernelspec": {
   "display_name": "main-ds",
   "language": "python",
   "name": "python3"
  },
  "language_info": {
   "codemirror_mode": {
    "name": "ipython",
    "version": 3
   },
   "file_extension": ".py",
   "mimetype": "text/x-python",
   "name": "python",
   "nbconvert_exporter": "python",
   "pygments_lexer": "ipython3",
   "version": "3.9.21"
  }
 },
 "nbformat": 4,
 "nbformat_minor": 4
}
